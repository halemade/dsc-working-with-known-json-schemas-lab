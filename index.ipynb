{
 "cells": [
  {
   "cell_type": "markdown",
   "metadata": {},
   "source": [
    "# Working with Known JSON Schemas - Lab"
   ]
  },
  {
   "cell_type": "markdown",
   "metadata": {},
   "source": [
    "## Introduction\n",
    "In this lab, you'll practice working with JSON files whose schema you know beforehand."
   ]
  },
  {
   "cell_type": "markdown",
   "metadata": {},
   "source": [
    "## Objectives\n",
    "You will be able to:\n",
    "* Use the JSON module to load and parse JSON documents\n",
    "* Extract data using predefined JSON schemas\n",
    "* Convert JSON to a pandas dataframe"
   ]
  },
  {
   "cell_type": "markdown",
   "metadata": {},
   "source": [
    "## Reading a JSON Schema\n",
    "\n",
    "Here's the JSON schema provided for a section of the NY Times API:\n",
    "<img src=\"images/nytimes_movie_schema.png\" width=500>\n",
    "\n",
    "or a fully expanded view:\n",
    "\n",
    "<img src=\"images/nytimes_movie_schema_detailed.png\" width=500>\n",
    "\n",
    "You can more about the documentation [here](https://developer.nytimes.com/docs/movie-reviews-api/1/routes/reviews/%7Btype%7D.json/get).\n",
    "\n",
    "Note that **this is a different schema than the schema used in the previous lesson**, although both come from the New York Times."
   ]
  },
  {
   "cell_type": "markdown",
   "metadata": {},
   "source": [
    "## Loading the JSON Data\n",
    "\n",
    "Open the JSON file located at `ny_times_movies.json`, and use the `json` module to load the data into a variable called `data`."
   ]
  },
  {
   "cell_type": "code",
   "execution_count": 30,
   "metadata": {},
   "outputs": [
    {
     "data": {
      "text/plain": [
       "5"
      ]
     },
     "execution_count": 30,
     "metadata": {},
     "output_type": "execute_result"
    }
   ],
   "source": [
    "import json\n",
    "movies = []\n",
    "with open('ny_times_movies.json') as data:\n",
    "    movies = json.load(data)\n",
    "    \n",
    "len(movies)"
   ]
  },
  {
   "cell_type": "markdown",
   "metadata": {},
   "source": [
    "Run the code below to investigate its contents:"
   ]
  },
  {
   "cell_type": "code",
   "execution_count": 31,
   "metadata": {},
   "outputs": [
    {
     "name": "stdout",
     "output_type": "stream",
     "text": [
      "`data` has type <class 'dict'>\n",
      "The keys are ['status', 'copyright', 'has_more', 'num_results', 'results']\n"
     ]
    }
   ],
   "source": [
    "# Run this cell without changes\n",
    "print(\"`data` has type\", type(movies))\n",
    "print(\"The keys are\", list(movies.keys()))"
   ]
  },
  {
   "cell_type": "markdown",
   "metadata": {},
   "source": [
    "## Loading Results\n",
    "\n",
    "Create a variable `results` that contains the value associated with the `'results'` key."
   ]
  },
  {
   "cell_type": "code",
   "execution_count": 59,
   "metadata": {},
   "outputs": [
    {
     "data": {
      "text/plain": [
       "'http://www.nytimes.com/2018/10/16/movies/charm-city-review-baltimore.html'"
      ]
     },
     "execution_count": 59,
     "metadata": {},
     "output_type": "execute_result"
    }
   ],
   "source": [
    "results = [movies['results'] for movie in movies]\n",
    "results[1][1]['link']['url']"
   ]
  },
  {
   "cell_type": "markdown",
   "metadata": {},
   "source": [
    "Below we display this variable as a table using pandas:"
   ]
  },
  {
   "cell_type": "code",
   "execution_count": 33,
   "metadata": {},
   "outputs": [
    {
     "data": {
      "text/html": [
       "<div>\n",
       "<style scoped>\n",
       "    .dataframe tbody tr th:only-of-type {\n",
       "        vertical-align: middle;\n",
       "    }\n",
       "\n",
       "    .dataframe tbody tr th {\n",
       "        vertical-align: top;\n",
       "    }\n",
       "\n",
       "    .dataframe thead th {\n",
       "        text-align: right;\n",
       "    }\n",
       "</style>\n",
       "<table border=\"1\" class=\"dataframe\">\n",
       "  <thead>\n",
       "    <tr style=\"text-align: right;\">\n",
       "      <th></th>\n",
       "      <th>0</th>\n",
       "      <th>1</th>\n",
       "      <th>2</th>\n",
       "      <th>3</th>\n",
       "      <th>4</th>\n",
       "      <th>5</th>\n",
       "      <th>6</th>\n",
       "      <th>7</th>\n",
       "      <th>8</th>\n",
       "      <th>9</th>\n",
       "      <th>10</th>\n",
       "      <th>11</th>\n",
       "      <th>12</th>\n",
       "      <th>13</th>\n",
       "      <th>14</th>\n",
       "      <th>15</th>\n",
       "      <th>16</th>\n",
       "      <th>17</th>\n",
       "      <th>18</th>\n",
       "      <th>19</th>\n",
       "    </tr>\n",
       "  </thead>\n",
       "  <tbody>\n",
       "    <tr>\n",
       "      <th>0</th>\n",
       "      <td>{'display_title': 'Can You Ever Forgive Me', '...</td>\n",
       "      <td>{'display_title': 'Charm City', 'mpaa_rating':...</td>\n",
       "      <td>{'display_title': 'Horn from the Heart: The Pa...</td>\n",
       "      <td>{'display_title': 'The Price of Everything', '...</td>\n",
       "      <td>{'display_title': 'Impulso', 'mpaa_rating': ''...</td>\n",
       "      <td>{'display_title': 'Watergate', 'mpaa_rating': ...</td>\n",
       "      <td>{'display_title': 'Barbara', 'mpaa_rating': ''...</td>\n",
       "      <td>{'display_title': 'Over the Limit', 'mpaa_rati...</td>\n",
       "      <td>{'display_title': 'The Kindergarten Teacher', ...</td>\n",
       "      <td>{'display_title': 'Classical Period', 'mpaa_ra...</td>\n",
       "      <td>{'display_title': 'Bad Times at the El Royale'...</td>\n",
       "      <td>{'display_title': 'Beautiful Boy', 'mpaa_ratin...</td>\n",
       "      <td>{'display_title': 'The Oath', 'mpaa_rating': '...</td>\n",
       "      <td>{'display_title': 'Bikini Moon', 'mpaa_rating'...</td>\n",
       "      <td>{'display_title': 'Goosebumps 2: Haunted Hallo...</td>\n",
       "      <td>{'display_title': 'The Sentence', 'mpaa_rating...</td>\n",
       "      <td>{'display_title': 'All Square', 'mpaa_rating':...</td>\n",
       "      <td>{'display_title': 'Sadie', 'mpaa_rating': '', ...</td>\n",
       "      <td>{'display_title': 'After Everything', 'mpaa_ra...</td>\n",
       "      <td>{'display_title': 'First Man', 'mpaa_rating': ...</td>\n",
       "    </tr>\n",
       "    <tr>\n",
       "      <th>1</th>\n",
       "      <td>{'display_title': 'Can You Ever Forgive Me', '...</td>\n",
       "      <td>{'display_title': 'Charm City', 'mpaa_rating':...</td>\n",
       "      <td>{'display_title': 'Horn from the Heart: The Pa...</td>\n",
       "      <td>{'display_title': 'The Price of Everything', '...</td>\n",
       "      <td>{'display_title': 'Impulso', 'mpaa_rating': ''...</td>\n",
       "      <td>{'display_title': 'Watergate', 'mpaa_rating': ...</td>\n",
       "      <td>{'display_title': 'Barbara', 'mpaa_rating': ''...</td>\n",
       "      <td>{'display_title': 'Over the Limit', 'mpaa_rati...</td>\n",
       "      <td>{'display_title': 'The Kindergarten Teacher', ...</td>\n",
       "      <td>{'display_title': 'Classical Period', 'mpaa_ra...</td>\n",
       "      <td>{'display_title': 'Bad Times at the El Royale'...</td>\n",
       "      <td>{'display_title': 'Beautiful Boy', 'mpaa_ratin...</td>\n",
       "      <td>{'display_title': 'The Oath', 'mpaa_rating': '...</td>\n",
       "      <td>{'display_title': 'Bikini Moon', 'mpaa_rating'...</td>\n",
       "      <td>{'display_title': 'Goosebumps 2: Haunted Hallo...</td>\n",
       "      <td>{'display_title': 'The Sentence', 'mpaa_rating...</td>\n",
       "      <td>{'display_title': 'All Square', 'mpaa_rating':...</td>\n",
       "      <td>{'display_title': 'Sadie', 'mpaa_rating': '', ...</td>\n",
       "      <td>{'display_title': 'After Everything', 'mpaa_ra...</td>\n",
       "      <td>{'display_title': 'First Man', 'mpaa_rating': ...</td>\n",
       "    </tr>\n",
       "    <tr>\n",
       "      <th>2</th>\n",
       "      <td>{'display_title': 'Can You Ever Forgive Me', '...</td>\n",
       "      <td>{'display_title': 'Charm City', 'mpaa_rating':...</td>\n",
       "      <td>{'display_title': 'Horn from the Heart: The Pa...</td>\n",
       "      <td>{'display_title': 'The Price of Everything', '...</td>\n",
       "      <td>{'display_title': 'Impulso', 'mpaa_rating': ''...</td>\n",
       "      <td>{'display_title': 'Watergate', 'mpaa_rating': ...</td>\n",
       "      <td>{'display_title': 'Barbara', 'mpaa_rating': ''...</td>\n",
       "      <td>{'display_title': 'Over the Limit', 'mpaa_rati...</td>\n",
       "      <td>{'display_title': 'The Kindergarten Teacher', ...</td>\n",
       "      <td>{'display_title': 'Classical Period', 'mpaa_ra...</td>\n",
       "      <td>{'display_title': 'Bad Times at the El Royale'...</td>\n",
       "      <td>{'display_title': 'Beautiful Boy', 'mpaa_ratin...</td>\n",
       "      <td>{'display_title': 'The Oath', 'mpaa_rating': '...</td>\n",
       "      <td>{'display_title': 'Bikini Moon', 'mpaa_rating'...</td>\n",
       "      <td>{'display_title': 'Goosebumps 2: Haunted Hallo...</td>\n",
       "      <td>{'display_title': 'The Sentence', 'mpaa_rating...</td>\n",
       "      <td>{'display_title': 'All Square', 'mpaa_rating':...</td>\n",
       "      <td>{'display_title': 'Sadie', 'mpaa_rating': '', ...</td>\n",
       "      <td>{'display_title': 'After Everything', 'mpaa_ra...</td>\n",
       "      <td>{'display_title': 'First Man', 'mpaa_rating': ...</td>\n",
       "    </tr>\n",
       "    <tr>\n",
       "      <th>3</th>\n",
       "      <td>{'display_title': 'Can You Ever Forgive Me', '...</td>\n",
       "      <td>{'display_title': 'Charm City', 'mpaa_rating':...</td>\n",
       "      <td>{'display_title': 'Horn from the Heart: The Pa...</td>\n",
       "      <td>{'display_title': 'The Price of Everything', '...</td>\n",
       "      <td>{'display_title': 'Impulso', 'mpaa_rating': ''...</td>\n",
       "      <td>{'display_title': 'Watergate', 'mpaa_rating': ...</td>\n",
       "      <td>{'display_title': 'Barbara', 'mpaa_rating': ''...</td>\n",
       "      <td>{'display_title': 'Over the Limit', 'mpaa_rati...</td>\n",
       "      <td>{'display_title': 'The Kindergarten Teacher', ...</td>\n",
       "      <td>{'display_title': 'Classical Period', 'mpaa_ra...</td>\n",
       "      <td>{'display_title': 'Bad Times at the El Royale'...</td>\n",
       "      <td>{'display_title': 'Beautiful Boy', 'mpaa_ratin...</td>\n",
       "      <td>{'display_title': 'The Oath', 'mpaa_rating': '...</td>\n",
       "      <td>{'display_title': 'Bikini Moon', 'mpaa_rating'...</td>\n",
       "      <td>{'display_title': 'Goosebumps 2: Haunted Hallo...</td>\n",
       "      <td>{'display_title': 'The Sentence', 'mpaa_rating...</td>\n",
       "      <td>{'display_title': 'All Square', 'mpaa_rating':...</td>\n",
       "      <td>{'display_title': 'Sadie', 'mpaa_rating': '', ...</td>\n",
       "      <td>{'display_title': 'After Everything', 'mpaa_ra...</td>\n",
       "      <td>{'display_title': 'First Man', 'mpaa_rating': ...</td>\n",
       "    </tr>\n",
       "    <tr>\n",
       "      <th>4</th>\n",
       "      <td>{'display_title': 'Can You Ever Forgive Me', '...</td>\n",
       "      <td>{'display_title': 'Charm City', 'mpaa_rating':...</td>\n",
       "      <td>{'display_title': 'Horn from the Heart: The Pa...</td>\n",
       "      <td>{'display_title': 'The Price of Everything', '...</td>\n",
       "      <td>{'display_title': 'Impulso', 'mpaa_rating': ''...</td>\n",
       "      <td>{'display_title': 'Watergate', 'mpaa_rating': ...</td>\n",
       "      <td>{'display_title': 'Barbara', 'mpaa_rating': ''...</td>\n",
       "      <td>{'display_title': 'Over the Limit', 'mpaa_rati...</td>\n",
       "      <td>{'display_title': 'The Kindergarten Teacher', ...</td>\n",
       "      <td>{'display_title': 'Classical Period', 'mpaa_ra...</td>\n",
       "      <td>{'display_title': 'Bad Times at the El Royale'...</td>\n",
       "      <td>{'display_title': 'Beautiful Boy', 'mpaa_ratin...</td>\n",
       "      <td>{'display_title': 'The Oath', 'mpaa_rating': '...</td>\n",
       "      <td>{'display_title': 'Bikini Moon', 'mpaa_rating'...</td>\n",
       "      <td>{'display_title': 'Goosebumps 2: Haunted Hallo...</td>\n",
       "      <td>{'display_title': 'The Sentence', 'mpaa_rating...</td>\n",
       "      <td>{'display_title': 'All Square', 'mpaa_rating':...</td>\n",
       "      <td>{'display_title': 'Sadie', 'mpaa_rating': '', ...</td>\n",
       "      <td>{'display_title': 'After Everything', 'mpaa_ra...</td>\n",
       "      <td>{'display_title': 'First Man', 'mpaa_rating': ...</td>\n",
       "    </tr>\n",
       "  </tbody>\n",
       "</table>\n",
       "</div>"
      ],
      "text/plain": [
       "                                                  0   \\\n",
       "0  {'display_title': 'Can You Ever Forgive Me', '...   \n",
       "1  {'display_title': 'Can You Ever Forgive Me', '...   \n",
       "2  {'display_title': 'Can You Ever Forgive Me', '...   \n",
       "3  {'display_title': 'Can You Ever Forgive Me', '...   \n",
       "4  {'display_title': 'Can You Ever Forgive Me', '...   \n",
       "\n",
       "                                                  1   \\\n",
       "0  {'display_title': 'Charm City', 'mpaa_rating':...   \n",
       "1  {'display_title': 'Charm City', 'mpaa_rating':...   \n",
       "2  {'display_title': 'Charm City', 'mpaa_rating':...   \n",
       "3  {'display_title': 'Charm City', 'mpaa_rating':...   \n",
       "4  {'display_title': 'Charm City', 'mpaa_rating':...   \n",
       "\n",
       "                                                  2   \\\n",
       "0  {'display_title': 'Horn from the Heart: The Pa...   \n",
       "1  {'display_title': 'Horn from the Heart: The Pa...   \n",
       "2  {'display_title': 'Horn from the Heart: The Pa...   \n",
       "3  {'display_title': 'Horn from the Heart: The Pa...   \n",
       "4  {'display_title': 'Horn from the Heart: The Pa...   \n",
       "\n",
       "                                                  3   \\\n",
       "0  {'display_title': 'The Price of Everything', '...   \n",
       "1  {'display_title': 'The Price of Everything', '...   \n",
       "2  {'display_title': 'The Price of Everything', '...   \n",
       "3  {'display_title': 'The Price of Everything', '...   \n",
       "4  {'display_title': 'The Price of Everything', '...   \n",
       "\n",
       "                                                  4   \\\n",
       "0  {'display_title': 'Impulso', 'mpaa_rating': ''...   \n",
       "1  {'display_title': 'Impulso', 'mpaa_rating': ''...   \n",
       "2  {'display_title': 'Impulso', 'mpaa_rating': ''...   \n",
       "3  {'display_title': 'Impulso', 'mpaa_rating': ''...   \n",
       "4  {'display_title': 'Impulso', 'mpaa_rating': ''...   \n",
       "\n",
       "                                                  5   \\\n",
       "0  {'display_title': 'Watergate', 'mpaa_rating': ...   \n",
       "1  {'display_title': 'Watergate', 'mpaa_rating': ...   \n",
       "2  {'display_title': 'Watergate', 'mpaa_rating': ...   \n",
       "3  {'display_title': 'Watergate', 'mpaa_rating': ...   \n",
       "4  {'display_title': 'Watergate', 'mpaa_rating': ...   \n",
       "\n",
       "                                                  6   \\\n",
       "0  {'display_title': 'Barbara', 'mpaa_rating': ''...   \n",
       "1  {'display_title': 'Barbara', 'mpaa_rating': ''...   \n",
       "2  {'display_title': 'Barbara', 'mpaa_rating': ''...   \n",
       "3  {'display_title': 'Barbara', 'mpaa_rating': ''...   \n",
       "4  {'display_title': 'Barbara', 'mpaa_rating': ''...   \n",
       "\n",
       "                                                  7   \\\n",
       "0  {'display_title': 'Over the Limit', 'mpaa_rati...   \n",
       "1  {'display_title': 'Over the Limit', 'mpaa_rati...   \n",
       "2  {'display_title': 'Over the Limit', 'mpaa_rati...   \n",
       "3  {'display_title': 'Over the Limit', 'mpaa_rati...   \n",
       "4  {'display_title': 'Over the Limit', 'mpaa_rati...   \n",
       "\n",
       "                                                  8   \\\n",
       "0  {'display_title': 'The Kindergarten Teacher', ...   \n",
       "1  {'display_title': 'The Kindergarten Teacher', ...   \n",
       "2  {'display_title': 'The Kindergarten Teacher', ...   \n",
       "3  {'display_title': 'The Kindergarten Teacher', ...   \n",
       "4  {'display_title': 'The Kindergarten Teacher', ...   \n",
       "\n",
       "                                                  9   \\\n",
       "0  {'display_title': 'Classical Period', 'mpaa_ra...   \n",
       "1  {'display_title': 'Classical Period', 'mpaa_ra...   \n",
       "2  {'display_title': 'Classical Period', 'mpaa_ra...   \n",
       "3  {'display_title': 'Classical Period', 'mpaa_ra...   \n",
       "4  {'display_title': 'Classical Period', 'mpaa_ra...   \n",
       "\n",
       "                                                  10  \\\n",
       "0  {'display_title': 'Bad Times at the El Royale'...   \n",
       "1  {'display_title': 'Bad Times at the El Royale'...   \n",
       "2  {'display_title': 'Bad Times at the El Royale'...   \n",
       "3  {'display_title': 'Bad Times at the El Royale'...   \n",
       "4  {'display_title': 'Bad Times at the El Royale'...   \n",
       "\n",
       "                                                  11  \\\n",
       "0  {'display_title': 'Beautiful Boy', 'mpaa_ratin...   \n",
       "1  {'display_title': 'Beautiful Boy', 'mpaa_ratin...   \n",
       "2  {'display_title': 'Beautiful Boy', 'mpaa_ratin...   \n",
       "3  {'display_title': 'Beautiful Boy', 'mpaa_ratin...   \n",
       "4  {'display_title': 'Beautiful Boy', 'mpaa_ratin...   \n",
       "\n",
       "                                                  12  \\\n",
       "0  {'display_title': 'The Oath', 'mpaa_rating': '...   \n",
       "1  {'display_title': 'The Oath', 'mpaa_rating': '...   \n",
       "2  {'display_title': 'The Oath', 'mpaa_rating': '...   \n",
       "3  {'display_title': 'The Oath', 'mpaa_rating': '...   \n",
       "4  {'display_title': 'The Oath', 'mpaa_rating': '...   \n",
       "\n",
       "                                                  13  \\\n",
       "0  {'display_title': 'Bikini Moon', 'mpaa_rating'...   \n",
       "1  {'display_title': 'Bikini Moon', 'mpaa_rating'...   \n",
       "2  {'display_title': 'Bikini Moon', 'mpaa_rating'...   \n",
       "3  {'display_title': 'Bikini Moon', 'mpaa_rating'...   \n",
       "4  {'display_title': 'Bikini Moon', 'mpaa_rating'...   \n",
       "\n",
       "                                                  14  \\\n",
       "0  {'display_title': 'Goosebumps 2: Haunted Hallo...   \n",
       "1  {'display_title': 'Goosebumps 2: Haunted Hallo...   \n",
       "2  {'display_title': 'Goosebumps 2: Haunted Hallo...   \n",
       "3  {'display_title': 'Goosebumps 2: Haunted Hallo...   \n",
       "4  {'display_title': 'Goosebumps 2: Haunted Hallo...   \n",
       "\n",
       "                                                  15  \\\n",
       "0  {'display_title': 'The Sentence', 'mpaa_rating...   \n",
       "1  {'display_title': 'The Sentence', 'mpaa_rating...   \n",
       "2  {'display_title': 'The Sentence', 'mpaa_rating...   \n",
       "3  {'display_title': 'The Sentence', 'mpaa_rating...   \n",
       "4  {'display_title': 'The Sentence', 'mpaa_rating...   \n",
       "\n",
       "                                                  16  \\\n",
       "0  {'display_title': 'All Square', 'mpaa_rating':...   \n",
       "1  {'display_title': 'All Square', 'mpaa_rating':...   \n",
       "2  {'display_title': 'All Square', 'mpaa_rating':...   \n",
       "3  {'display_title': 'All Square', 'mpaa_rating':...   \n",
       "4  {'display_title': 'All Square', 'mpaa_rating':...   \n",
       "\n",
       "                                                  17  \\\n",
       "0  {'display_title': 'Sadie', 'mpaa_rating': '', ...   \n",
       "1  {'display_title': 'Sadie', 'mpaa_rating': '', ...   \n",
       "2  {'display_title': 'Sadie', 'mpaa_rating': '', ...   \n",
       "3  {'display_title': 'Sadie', 'mpaa_rating': '', ...   \n",
       "4  {'display_title': 'Sadie', 'mpaa_rating': '', ...   \n",
       "\n",
       "                                                  18  \\\n",
       "0  {'display_title': 'After Everything', 'mpaa_ra...   \n",
       "1  {'display_title': 'After Everything', 'mpaa_ra...   \n",
       "2  {'display_title': 'After Everything', 'mpaa_ra...   \n",
       "3  {'display_title': 'After Everything', 'mpaa_ra...   \n",
       "4  {'display_title': 'After Everything', 'mpaa_ra...   \n",
       "\n",
       "                                                  19  \n",
       "0  {'display_title': 'First Man', 'mpaa_rating': ...  \n",
       "1  {'display_title': 'First Man', 'mpaa_rating': ...  \n",
       "2  {'display_title': 'First Man', 'mpaa_rating': ...  \n",
       "3  {'display_title': 'First Man', 'mpaa_rating': ...  \n",
       "4  {'display_title': 'First Man', 'mpaa_rating': ...  "
      ]
     },
     "execution_count": 33,
     "metadata": {},
     "output_type": "execute_result"
    }
   ],
   "source": [
    "# Run this cell without changes\n",
    "import pandas as pd\n",
    "df = pd.DataFrame(results)\n",
    "df"
   ]
  },
  {
   "cell_type": "markdown",
   "metadata": {},
   "source": [
    "## Data Analysis\n",
    "\n",
    "Now that you have a general sense of the data, answer some questions about it.\n",
    "\n",
    "### How many results are in the file?\n",
    "\n",
    "The metadata says this:"
   ]
  },
  {
   "cell_type": "code",
   "execution_count": 35,
   "metadata": {},
   "outputs": [],
   "source": [
    "# Run this cell without changes\n",
    "num = movies['num_results']"
   ]
  },
  {
   "cell_type": "markdown",
   "metadata": {},
   "source": [
    "Double-check that by looking at `results`. Does it line up?"
   ]
  },
  {
   "cell_type": "code",
   "execution_count": 36,
   "metadata": {},
   "outputs": [
    {
     "data": {
      "text/plain": [
       "20"
      ]
     },
     "execution_count": 36,
     "metadata": {},
     "output_type": "execute_result"
    }
   ],
   "source": [
    "num"
   ]
  },
  {
   "cell_type": "markdown",
   "metadata": {},
   "source": [
    "No, some value is a duplicate "
   ]
  },
  {
   "cell_type": "markdown",
   "metadata": {},
   "source": [
    "### How many unique critics are there?\n",
    "\n",
    "A critic's name can be identified using the `'byline'` key. Assign your answer to the variable `unique_critics`."
   ]
  },
  {
   "cell_type": "code",
   "execution_count": 53,
   "metadata": {},
   "outputs": [
    {
     "data": {
      "text/plain": [
       "{'A.O. SCOTT',\n",
       " 'BEN KENIGSBERG',\n",
       " 'GLENN KENNY',\n",
       " 'JEANNETTE CATSOULIS',\n",
       " 'KEN JAWOROWSKI',\n",
       " 'MANOHLA DARGIS',\n",
       " 'TEO BUGBEE'}"
      ]
     },
     "execution_count": 53,
     "metadata": {},
     "output_type": "execute_result"
    }
   ],
   "source": [
    "critics = []\n",
    "for result in results:\n",
    "    for dictitem in result:\n",
    "        critics.append(dictitem['byline'])\n",
    "unique_critics = set(critics)\n",
    "unique_critics"
   ]
  },
  {
   "cell_type": "markdown",
   "metadata": {},
   "source": [
    "This code checks your answer."
   ]
  },
  {
   "cell_type": "code",
   "execution_count": 55,
   "metadata": {},
   "outputs": [
    {
     "name": "stdout",
     "output_type": "stream",
     "text": [
      "True\n"
     ]
    }
   ],
   "source": [
    "# Run this cell without changes\n",
    "print(len(unique_critics) == 7)"
   ]
  },
  {
   "cell_type": "markdown",
   "metadata": {},
   "source": [
    "## Flattening Data\n",
    "\n",
    "Create a list `review_urls` that contains the URL for each review. This can be found using the `'url'` key nested under `'link'`."
   ]
  },
  {
   "cell_type": "code",
   "execution_count": 137,
   "metadata": {},
   "outputs": [
    {
     "data": {
      "text/plain": [
       "{'display_title': 'Horn from the Heart: The Paul Butterfield Story',\n",
       " 'mpaa_rating': '',\n",
       " 'critics_pick': 1,\n",
       " 'byline': 'GLENN KENNY',\n",
       " 'headline': 'Review: Paul Butterfield’s Story Is Told in ‘Horn From the Heart’',\n",
       " 'summary_short': 'A documentary explores the life of the blues musician who was prominent in the 1960s and ’70s.',\n",
       " 'publication_date': '2018-10-16',\n",
       " 'opening_date': '2018-10-19',\n",
       " 'date_updated': '2018-10-16 11:04:04',\n",
       " 'link': 'e',\n",
       " 'multimedia': {'type': 'mediumThreeByTwo210',\n",
       "  'src': 'https://static01.nyt.com/images/2018/10/17/arts/17hornfromtheheart/17hornfromtheheart-mediumThreeByTwo210.jpg',\n",
       "  'width': 210,\n",
       "  'height': 140}}"
      ]
     },
     "execution_count": 137,
     "metadata": {},
     "output_type": "execute_result"
    }
   ],
   "source": [
    "links = []\n",
    "for result in results:\n",
    "    for dictitem in result:\n",
    "            links.append(dictitem['link'])\n",
    "\n",
    "results[2][2]"
   ]
  },
  {
   "cell_type": "markdown",
   "metadata": {},
   "source": [
    "The following code will check your answer:"
   ]
  },
  {
   "cell_type": "code",
   "execution_count": null,
   "metadata": {},
   "outputs": [],
   "source": [
    "# Run this cell without changes\n",
    "\n",
    "# review_urls should be a list\n",
    "assert type(review_urls) == list\n",
    "\n",
    "# The length should be 20, same as the length of reviews\n",
    "assert len(review_urls) == 20\n",
    "\n",
    "# The data type contained should be string\n",
    "assert type(review_urls[0]) == str and type(review_urls[-1]) == str\n",
    "\n",
    "# Spot checking a specific value\n",
    "assert review_urls[6] == 'http://www.nytimes.com/2018/10/11/movies/barbara-review.html'"
   ]
  },
  {
   "cell_type": "markdown",
   "metadata": {},
   "source": [
    "## Summary\n",
    "Well done! In this lab you continued to practice extracting and transforming data from JSON files with known schemas."
   ]
  }
 ],
 "metadata": {
  "kernelspec": {
   "display_name": "Python 3",
   "language": "python",
   "name": "python3"
  },
  "language_info": {
   "codemirror_mode": {
    "name": "ipython",
    "version": 3
   },
   "file_extension": ".py",
   "mimetype": "text/x-python",
   "name": "python",
   "nbconvert_exporter": "python",
   "pygments_lexer": "ipython3",
   "version": "3.7.9"
  },
  "toc": {
   "base_numbering": 1,
   "nav_menu": {},
   "number_sections": true,
   "sideBar": true,
   "skip_h1_title": false,
   "title_cell": "Table of Contents",
   "title_sidebar": "Contents",
   "toc_cell": false,
   "toc_position": {},
   "toc_section_display": true,
   "toc_window_display": false
  }
 },
 "nbformat": 4,
 "nbformat_minor": 2
}
